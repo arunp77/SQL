{
 "cells": [
  {
   "cell_type": "markdown",
   "metadata": {},
   "source": [
    "# Spotify Data pipeline\n",
    "\n",
    "<img src=\"pipeline.png\" alt=\"Types of data\" width=\"800\" height=\"650\">"
   ]
  },
  {
   "cell_type": "markdown",
   "metadata": {},
   "source": [
    "- The Spotify ETL pipeline is a comprehensive workflow process designed to extract, transform, and load data from Spotify's data sources (API) into a target destination for further analysis and storage. \n",
    "- The pipeline actively fetches data from Spotify, including user activity, song metadata, playlists, and other relevant information. \n",
    "- It then applies a series of transformations to clean, enrich, and aggregate the data, ensuring its quality and usability.\n",
    "- Throughout the pipeline, active monitoring and management services, such as Amazon CloudWatch, are employed to track the performance, logs, and metrics of the pipeline. This ensures that the process runs smoothly and efficiently.\n",
    "- Once the data is transformed, it is actively loaded into a target destination, such as a database, data warehouse, or data lake. This enables seamless access and analysis of the data by downstream applications and analytics tools.\n",
    "- By leveraging the Spotify ETL pipeline, you can actively extract valuable insights, perform in-depth analysis, and make data-driven decisions based on the diverse and rich data available from the Spotify platform."
   ]
  },
  {
   "cell_type": "markdown",
   "metadata": {},
   "source": [
    "### Creation of Spotfiy API\n",
    "\n",
    "-  Go to https://developer.spotify.com/ and login it (if you are not registered at the Spotfiy then create a account using your email and password).\n",
    "\n",
    "-  After login, go to the dashboard and click \"Create app\" and follow the onscreen process and then create your secret ID for the etl pipeline (in my case, I created `spotfiy_etl_pipeline`) that will be used later in loading the data from the spotify to AWS S3 bucket.\n",
    "  \n",
    " <img src=\"Spotify-dashboard.png\" alt=\"Types of data\" width=\"800\" height=\"400\">\n",
    "\n",
    "- FInd the Client Id and the Client Secret from the created App.\n",
    "\n"
   ]
  },
  {
   "cell_type": "markdown",
   "metadata": {},
   "source": []
  },
  {
   "cell_type": "code",
   "execution_count": null,
   "metadata": {},
   "outputs": [],
   "source": []
  }
 ],
 "metadata": {
  "language_info": {
   "name": "python"
  },
  "orig_nbformat": 4
 },
 "nbformat": 4,
 "nbformat_minor": 2
}
